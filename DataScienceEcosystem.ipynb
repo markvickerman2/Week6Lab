{
 "cells": [
  {
   "cell_type": "markdown",
   "id": "7a5ba3d3",
   "metadata": {},
   "source": [
    "<center>\n",
    "    <img src=\"https://cf-courses-data.s3.us.cloud-object-storage.appdomain.cloud/IBMDeveloperSkillsNetwork-DS0105EN-SkillsNetwork/labs/Module2/images/SN_web_lightmode.png\" width=\"300\" alt=\"cognitiveclass.ai logo\">\n",
    "</center>"
   ]
  },
  {
   "cell_type": "markdown",
   "id": "1fb12fc0",
   "metadata": {},
   "source": [
    "# Data Science Tools and Ecosystem"
   ]
  },
  {
   "cell_type": "markdown",
   "id": "3b66ea45",
   "metadata": {},
   "source": [
    "In this notebook data science tools and ecosystem are summarized."
   ]
  },
  {
   "cell_type": "markdown",
   "id": "f4c698bd",
   "metadata": {},
   "source": [
    "**Objectives:**\n",
    "\n",
    "* List Popular Languages for Data Science\n",
    "* List Common Libraries in Data Science\n",
    "* Create a table with a list of data science Tools\n",
    "* Execute code showing a few mathematical expressions"
   ]
  },
  {
   "cell_type": "markdown",
   "id": "f6ff01f8",
   "metadata": {},
   "source": [
    "Some of the popular languages in data science are:\n",
    "\n",
    "1. Python\n",
    "2. R\n",
    "3. Java\n",
    "4. Julia\n",
    "5. SQL\n",
    "6. Scala"
   ]
  },
  {
   "cell_type": "markdown",
   "id": "4aee9fad",
   "metadata": {},
   "source": [
    "Some of the commonly used libraries used by Data Scientists include:\n",
    "\n",
    "1. Matplotlib\n",
    "2. NumPy\n",
    "3. ggplot\n",
    "4. Pandas\n",
    "5. Scikit-Learn\n",
    "6. Seaborn"
   ]
  },
  {
   "cell_type": "markdown",
   "id": "ba030cf9",
   "metadata": {},
   "source": [
    "|Data Science Tools|\n",
    "|:-|\n",
    "|Jupyter Notebook|\n",
    "|R Studio|\n",
    "|Anaconda|"
   ]
  },
  {
   "cell_type": "markdown",
   "id": "4a43930e",
   "metadata": {},
   "source": [
    "### Below are a few examples of evaluating arithmetic expressions in Python"
   ]
  },
  {
   "cell_type": "code",
   "execution_count": 2,
   "id": "0d4a8c07",
   "metadata": {},
   "outputs": [
    {
     "data": {
      "text/plain": [
       "17"
      ]
     },
     "execution_count": 2,
     "metadata": {},
     "output_type": "execute_result"
    }
   ],
   "source": [
    "# This is a simple arithmetic expression to multipy then add integers.\n",
    "(3*4)+5"
   ]
  },
  {
   "cell_type": "code",
   "execution_count": 3,
   "id": "7ddcfd77",
   "metadata": {},
   "outputs": [
    {
     "data": {
      "text/plain": [
       "3.3333333333333335"
      ]
     },
     "execution_count": 3,
     "metadata": {},
     "output_type": "execute_result"
    }
   ],
   "source": [
    "# This will convert 200 minutes to hours by dividing by 60.\n",
    "200/60"
   ]
  },
  {
   "cell_type": "markdown",
   "id": "cd6ea116",
   "metadata": {},
   "source": [
    "## Author:\n",
    "Mark Vickerman"
   ]
  },
  {
   "cell_type": "code",
   "execution_count": null,
   "id": "3f705847",
   "metadata": {},
   "outputs": [],
   "source": []
  }
 ],
 "metadata": {
  "kernelspec": {
   "display_name": "Python 3 (ipykernel)",
   "language": "python",
   "name": "python3"
  },
  "language_info": {
   "codemirror_mode": {
    "name": "ipython",
    "version": 3
   },
   "file_extension": ".py",
   "mimetype": "text/x-python",
   "name": "python",
   "nbconvert_exporter": "python",
   "pygments_lexer": "ipython3",
   "version": "3.11.4"
  }
 },
 "nbformat": 4,
 "nbformat_minor": 5
}
