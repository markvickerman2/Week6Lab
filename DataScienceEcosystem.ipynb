{
 "cells": [
  {
   "cell_type": "markdown",
   "id": "7f0fe23b",
   "metadata": {},
   "source": [
    "# Data Science Tools and Ecosystem"
   ]
  },
  {
   "cell_type": "markdown",
   "id": "29751b62",
   "metadata": {},
   "source": [
    "In this notebook data science tools and ecosystem are summarized."
   ]
  },
  {
   "cell_type": "markdown",
   "id": "a1dcead3",
   "metadata": {},
   "source": [
    "**Objectives:**\n",
    "\n",
    "* List Popular Languages for Data Science\n",
    "* List Common Libraries in Data Science\n",
    "* Create a table with a list of data science Tools\n",
    "* Execute code showing a few mathematical expressions"
   ]
  },
  {
   "cell_type": "markdown",
   "id": "57fc8b96",
   "metadata": {},
   "source": [
    "Some of the popular languages in data science are:\n",
    "\n",
    "1. Python\n",
    "2. R\n",
    "3. Java\n",
    "4. Julia\n",
    "5. SQL\n",
    "6. Scala"
   ]
  },
  {
   "cell_type": "markdown",
   "id": "47bab3e2",
   "metadata": {},
   "source": [
    "Some of the commonly used libraries used by Data Scientists include:\n",
    "\n",
    "1. Matplotlib\n",
    "2. NumPy\n",
    "3. ggplot\n",
    "4. Pandas\n",
    "5. Scikit-Learn\n",
    "6. Seaborn"
   ]
  },
  {
   "cell_type": "markdown",
   "id": "341cc615",
   "metadata": {},
   "source": [
    "|Data Science Tools|\n",
    "|:-|\n",
    "|Jupyter Notebook|\n",
    "|R Studio|\n",
    "|Anaconda|"
   ]
  },
  {
   "cell_type": "markdown",
   "id": "50eff2f2",
   "metadata": {},
   "source": [
    "### Below are a few examples of evaluating arithmetic expressions in Python"
   ]
  },
  {
   "cell_type": "code",
   "execution_count": 2,
   "id": "a985e83e",
   "metadata": {},
   "outputs": [
    {
     "data": {
      "text/plain": [
       "17"
      ]
     },
     "execution_count": 2,
     "metadata": {},
     "output_type": "execute_result"
    }
   ],
   "source": [
    "# This is a simple arithmetic expression to multipy then add integers.\n",
    "(3*4)+5"
   ]
  },
  {
   "cell_type": "code",
   "execution_count": 3,
   "id": "eec651a5",
   "metadata": {},
   "outputs": [
    {
     "data": {
      "text/plain": [
       "3.3333333333333335"
      ]
     },
     "execution_count": 3,
     "metadata": {},
     "output_type": "execute_result"
    }
   ],
   "source": [
    "# This will convert 200 minutes to hours by dividing by 60.\n",
    "200/60"
   ]
  },
  {
   "cell_type": "markdown",
   "id": "04a36303",
   "metadata": {},
   "source": [
    "## Author:\n",
    "Mark Vickerman"
   ]
  },
  {
   "cell_type": "code",
   "execution_count": null,
   "id": "700423fd",
   "metadata": {},
   "outputs": [],
   "source": []
  }
 ],
 "metadata": {
  "kernelspec": {
   "display_name": "Python 3 (ipykernel)",
   "language": "python",
   "name": "python3"
  },
  "language_info": {
   "codemirror_mode": {
    "name": "ipython",
    "version": 3
   },
   "file_extension": ".py",
   "mimetype": "text/x-python",
   "name": "python",
   "nbconvert_exporter": "python",
   "pygments_lexer": "ipython3",
   "version": "3.11.4"
  }
 },
 "nbformat": 4,
 "nbformat_minor": 5
}
